{
  "nbformat": 4,
  "nbformat_minor": 0,
  "metadata": {
    "colab": {
      "name": "conv1d.ipynb",
      "provenance": [],
      "collapsed_sections": []
    },
    "kernelspec": {
      "name": "python3",
      "display_name": "Python 3"
    },
    "accelerator": "GPU"
  },
  "cells": [
    {
      "cell_type": "code",
      "metadata": {
        "id": "OTCB8AL-osBL",
        "colab_type": "code",
        "colab": {
          "base_uri": "https://localhost:8080/",
          "height": 35
        },
        "outputId": "42e4be27-f0b0-4d9d-8353-c1b410aeca82"
      },
      "source": [
        "from google.colab import drive\n",
        "drive.mount('/content/drive')"
      ],
      "execution_count": 1,
      "outputs": [
        {
          "output_type": "stream",
          "text": [
            "Drive already mounted at /content/drive; to attempt to forcibly remount, call drive.mount(\"/content/drive\", force_remount=True).\n"
          ],
          "name": "stdout"
        }
      ]
    },
    {
      "cell_type": "code",
      "metadata": {
        "id": "koL6wrhIq_em",
        "colab_type": "code",
        "colab": {
          "base_uri": "https://localhost:8080/",
          "height": 138
        },
        "outputId": "1d690b45-0ba9-42de-82bc-476a9b55bccb"
      },
      "source": [
        "\n",
        "from __future__ import print_function\n",
        "import numpy as np\n",
        "from sklearn.model_selection import train_test_split\n",
        "from sklearn.metrics import classification_report\n",
        "from time import time\n",
        "#np.random.seed(1337)  # for reproducibility\n",
        "\n",
        "from keras.preprocessing import sequence\n",
        "from keras.models import Sequential\n",
        "from keras.layers.core import Dense, Dropout, Activation, Flatten\n",
        "from keras.layers.normalization import BatchNormalization\n",
        "from keras.layers.convolutional import Convolution1D, MaxPooling1D\n",
        "from keras.utils import np_utils\n",
        "from keras.callbacks import TensorBoard\n",
        "\n",
        "\n",
        "# set parameters:\n",
        "test_dim = 499\n",
        "maxlen = 100\n",
        "nb_filter = 256\n",
        "filter_length_1 = 10\n",
        "filter_length_2 = 5\n",
        "hidden_dims = 750\n",
        "nb_epoch = 12\n",
        "nb_classes = 2\n",
        "split_ratio = 0.15\n",
        "\n",
        "print('Loading data...')\n",
        "\n",
        "# X = np.load('/content/drive/My Drive/Colab Notebooks/data/numpy_vectors/x_test_mfcc_500_50:50_samples_sliced_out.npy')\n",
        "# y = np.load('/content/drive/My Drive/Colab Notebooks/data/numpy_vectors/y_label_500_50:50_samples_sliced_out.npy')\n",
        "X = np.load('/content/drive/My Drive/Colab Notebooks/data/numpy_vectors/x_3:1_samples_out.npy')\n",
        "y = np.load('/content/drive/My Drive/Colab Notebooks/data/numpy_vectors/y_3:1_samples_out.npy')\n",
        "print(X.shape)\n",
        "print(y.shape)"
      ],
      "execution_count": 2,
      "outputs": [
        {
          "output_type": "stream",
          "text": [
            "Using TensorFlow backend.\n"
          ],
          "name": "stderr"
        },
        {
          "output_type": "display_data",
          "data": {
            "text/html": [
              "<p style=\"color: red;\">\n",
              "The default version of TensorFlow in Colab will soon switch to TensorFlow 2.x.<br>\n",
              "We recommend you <a href=\"https://www.tensorflow.org/guide/migrate\" target=\"_blank\">upgrade</a> now \n",
              "or ensure your notebook will continue to use TensorFlow 1.x via the <code>%tensorflow_version 1.x</code> magic:\n",
              "<a href=\"https://colab.research.google.com/notebooks/tensorflow_version.ipynb\" target=\"_blank\">more info</a>.</p>\n"
            ],
            "text/plain": [
              "<IPython.core.display.HTML object>"
            ]
          },
          "metadata": {
            "tags": []
          }
        },
        {
          "output_type": "stream",
          "text": [
            "Loading data...\n",
            "(3155, 499, 13)\n",
            "(3155,)\n"
          ],
          "name": "stdout"
        }
      ]
    },
    {
      "cell_type": "code",
      "metadata": {
        "id": "D9lzWC2zrkch",
        "colab_type": "code",
        "colab": {}
      },
      "source": [
        "X_train, X_test, y_train, y_test = train_test_split(X, y, test_size=split_ratio)\n",
        "Y_train = y_train\n",
        "Y_test = y_test"
      ],
      "execution_count": 0,
      "outputs": []
    },
    {
      "cell_type": "code",
      "metadata": {
        "id": "Zz0tpQ_kiQNo",
        "colab_type": "code",
        "colab": {
          "base_uri": "https://localhost:8080/",
          "height": 1141
        },
        "outputId": "e3bec454-7207-4661-ae41-c37f0d82f754"
      },
      "source": [
        "import keras\n",
        "from keras.preprocessing.image import ImageDataGenerator\n",
        "from keras.models import Sequential\n",
        "from keras.layers import Conv1D, MaxPooling1D\n",
        "from keras.layers import Activation, Dropout, Flatten, Dense\n",
        "nb_train_samples = X.shape\n",
        "input_shape = (test_dim, 13)\n",
        "for batch_size in range(25, 26, 5):\n",
        "    print('Build model...')\n",
        "    model = Sequential()\n",
        "\n",
        "    model = Sequential()\n",
        "    model.add(Conv1D(32, (3), input_shape=input_shape))\n",
        "    model.add(Activation('relu'))\n",
        "    model.add(MaxPooling1D(pool_size=(2)))\n",
        "\n",
        "    model.add(Conv1D(32, (3)))\n",
        "    model.add(Activation('relu'))\n",
        "    model.add(MaxPooling1D(pool_size=(2)))\n",
        "\n",
        "    model.add(Conv1D(64, (3)))\n",
        "    model.add(Activation('relu'))\n",
        "    model.add(MaxPooling1D(pool_size=(2)))\n",
        "\n",
        "    model.add(Flatten())\n",
        "    model.add(Dense(64))\n",
        "    model.add(Activation('relu'))\n",
        "    model.add(Dropout(0.5))\n",
        "    model.add(Dense(1))\n",
        "    model.add(Activation('sigmoid'))\n",
        "\n",
        "    model.compile(loss='binary_crossentropy',\n",
        "                  optimizer='rmsprop',\n",
        "                  metrics=['accuracy'])\n",
        "   \n",
        "    model.fit(X_train, Y_train, steps_per_epoch=nb_train_samples[0] // batch_size,\n",
        "            nb_epoch=10, shuffle='true', verbose=1)\n",
        "\n",
        "    Y_preds = model.predict(X_test)\n",
        "    # for i in range(len(Y_preds)):\n",
        "        # print(Y_preds[i], Y_test[i])\n",
        "    score = model.evaluate(X_test, Y_test, verbose=1)\n",
        "    print(score)"
      ],
      "execution_count": 4,
      "outputs": [
        {
          "output_type": "stream",
          "text": [
            "Build model...\n",
            "WARNING:tensorflow:From /usr/local/lib/python3.6/dist-packages/keras/backend/tensorflow_backend.py:66: The name tf.get_default_graph is deprecated. Please use tf.compat.v1.get_default_graph instead.\n",
            "\n",
            "WARNING:tensorflow:From /usr/local/lib/python3.6/dist-packages/keras/backend/tensorflow_backend.py:541: The name tf.placeholder is deprecated. Please use tf.compat.v1.placeholder instead.\n",
            "\n",
            "WARNING:tensorflow:From /usr/local/lib/python3.6/dist-packages/keras/backend/tensorflow_backend.py:4432: The name tf.random_uniform is deprecated. Please use tf.random.uniform instead.\n",
            "\n",
            "WARNING:tensorflow:From /usr/local/lib/python3.6/dist-packages/keras/backend/tensorflow_backend.py:4267: The name tf.nn.max_pool is deprecated. Please use tf.nn.max_pool2d instead.\n",
            "\n",
            "WARNING:tensorflow:From /usr/local/lib/python3.6/dist-packages/keras/backend/tensorflow_backend.py:148: The name tf.placeholder_with_default is deprecated. Please use tf.compat.v1.placeholder_with_default instead.\n",
            "\n",
            "WARNING:tensorflow:From /usr/local/lib/python3.6/dist-packages/keras/backend/tensorflow_backend.py:3733: calling dropout (from tensorflow.python.ops.nn_ops) with keep_prob is deprecated and will be removed in a future version.\n",
            "Instructions for updating:\n",
            "Please use `rate` instead of `keep_prob`. Rate should be set to `rate = 1 - keep_prob`.\n",
            "WARNING:tensorflow:From /usr/local/lib/python3.6/dist-packages/keras/optimizers.py:793: The name tf.train.Optimizer is deprecated. Please use tf.compat.v1.train.Optimizer instead.\n",
            "\n",
            "WARNING:tensorflow:From /usr/local/lib/python3.6/dist-packages/keras/backend/tensorflow_backend.py:3657: The name tf.log is deprecated. Please use tf.math.log instead.\n",
            "\n",
            "WARNING:tensorflow:From /usr/local/lib/python3.6/dist-packages/tensorflow_core/python/ops/nn_impl.py:183: where (from tensorflow.python.ops.array_ops) is deprecated and will be removed in a future version.\n",
            "Instructions for updating:\n",
            "Use tf.where in 2.0, which has the same broadcast rule as np.where\n"
          ],
          "name": "stdout"
        },
        {
          "output_type": "stream",
          "text": [
            "/usr/local/lib/python3.6/dist-packages/ipykernel_launcher.py:37: UserWarning: The `nb_epoch` argument in `fit` has been renamed `epochs`.\n"
          ],
          "name": "stderr"
        },
        {
          "output_type": "stream",
          "text": [
            "WARNING:tensorflow:From /usr/local/lib/python3.6/dist-packages/keras/backend/tensorflow_backend.py:1033: The name tf.assign_add is deprecated. Please use tf.compat.v1.assign_add instead.\n",
            "\n",
            "WARNING:tensorflow:From /usr/local/lib/python3.6/dist-packages/keras/backend/tensorflow_backend.py:1020: The name tf.assign is deprecated. Please use tf.compat.v1.assign instead.\n",
            "\n",
            "WARNING:tensorflow:From /usr/local/lib/python3.6/dist-packages/keras/backend/tensorflow_backend.py:3005: The name tf.Session is deprecated. Please use tf.compat.v1.Session instead.\n",
            "\n",
            "Epoch 1/10\n",
            "WARNING:tensorflow:From /usr/local/lib/python3.6/dist-packages/keras/backend/tensorflow_backend.py:190: The name tf.get_default_session is deprecated. Please use tf.compat.v1.get_default_session instead.\n",
            "\n",
            "WARNING:tensorflow:From /usr/local/lib/python3.6/dist-packages/keras/backend/tensorflow_backend.py:197: The name tf.ConfigProto is deprecated. Please use tf.compat.v1.ConfigProto instead.\n",
            "\n",
            "WARNING:tensorflow:From /usr/local/lib/python3.6/dist-packages/keras/backend/tensorflow_backend.py:207: The name tf.global_variables is deprecated. Please use tf.compat.v1.global_variables instead.\n",
            "\n",
            "WARNING:tensorflow:From /usr/local/lib/python3.6/dist-packages/keras/backend/tensorflow_backend.py:216: The name tf.is_variable_initialized is deprecated. Please use tf.compat.v1.is_variable_initialized instead.\n",
            "\n",
            "WARNING:tensorflow:From /usr/local/lib/python3.6/dist-packages/keras/backend/tensorflow_backend.py:223: The name tf.variables_initializer is deprecated. Please use tf.compat.v1.variables_initializer instead.\n",
            "\n",
            "126/126 [==============================] - 20s 160ms/step - loss: 0.7433 - acc: 0.9211\n",
            "Epoch 2/10\n",
            "126/126 [==============================] - 18s 142ms/step - loss: 0.0579 - acc: 0.9902\n",
            "Epoch 3/10\n",
            "126/126 [==============================] - 18s 142ms/step - loss: 0.0239 - acc: 0.9971\n",
            "Epoch 4/10\n",
            "126/126 [==============================] - 18s 142ms/step - loss: 0.0182 - acc: 0.9978\n",
            "Epoch 5/10\n",
            "126/126 [==============================] - 18s 142ms/step - loss: 0.0271 - acc: 0.9969\n",
            "Epoch 6/10\n",
            "126/126 [==============================] - 18s 141ms/step - loss: 0.0440 - acc: 0.9947\n",
            "Epoch 7/10\n",
            "126/126 [==============================] - 18s 141ms/step - loss: 2.6129e-04 - acc: 0.9999\n",
            "Epoch 8/10\n",
            "126/126 [==============================] - 18s 141ms/step - loss: 0.0508 - acc: 0.9953\n",
            "Epoch 9/10\n",
            "126/126 [==============================] - 18s 141ms/step - loss: 0.0255 - acc: 0.9980\n",
            "Epoch 10/10\n",
            "126/126 [==============================] - 18s 141ms/step - loss: 0.0212 - acc: 0.9983\n",
            "474/474 [==============================] - 0s 247us/step\n",
            "[1.2402050405118628e-07, 1.0]\n"
          ],
          "name": "stdout"
        }
      ]
    }
  ]
}